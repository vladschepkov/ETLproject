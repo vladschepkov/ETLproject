{
 "cells": [
  {
   "cell_type": "code",
   "execution_count": 7,
   "metadata": {},
   "outputs": [],
   "source": [
    "import pandas as pd\n",
    "import numpy as np\n",
    "import os\n",
    "import matplotlib.pyplot as plt\n",
    "low_memory = False"
   ]
  },
  {
   "cell_type": "code",
   "execution_count": 17,
   "metadata": {},
   "outputs": [],
   "source": [
    "#connects to csvs\n",
    "motive_data = pd.read_csv(\"19_Motive.csv\")\n",
    "victim_data = pd.read_csv(\"32_Victim.csv\")\n",
    "firearms_data = pd.read_csv(\"34_Firearm.csv\")\n",
    "air_data = pd.read_csv(\"data.csv\",encoding = \"ISO-8859-1\")"
   ]
  },
  {
   "cell_type": "code",
   "execution_count": 37,
   "metadata": {},
   "outputs": [
    {
     "data": {
      "text/plain": [
       "5067"
      ]
     },
     "execution_count": 37,
     "metadata": {},
     "output_type": "execute_result"
    }
   ],
   "source": [
    "#working on air quality data\n",
    "df_air_data = pd.DataFrame(air_data)\n",
    "df_air_data = df_air_data.set_index('state')\n",
    "\n",
    "clean_air_data = df_air_data.drop([\"stn_code\", \"sampling_date\",\"agency\",\"type\",\"location_monitoring_station\"],1)\n",
    "\n",
    "\n",
    "clean_air_data[\"date\"].nunique()"
   ]
  },
  {
   "cell_type": "code",
   "execution_count": null,
   "metadata": {},
   "outputs": [],
   "source": []
  }
 ],
 "metadata": {
  "kernelspec": {
   "display_name": "Python 3",
   "language": "python",
   "name": "python3"
  },
  "language_info": {
   "codemirror_mode": {
    "name": "ipython",
    "version": 3
   },
   "file_extension": ".py",
   "mimetype": "text/x-python",
   "name": "python",
   "nbconvert_exporter": "python",
   "pygments_lexer": "ipython3",
   "version": "3.7.3"
  }
 },
 "nbformat": 4,
 "nbformat_minor": 2
}

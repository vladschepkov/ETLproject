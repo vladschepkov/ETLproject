{
 "cells": [
  {
   "cell_type": "code",
   "execution_count": 27,
   "metadata": {},
   "outputs": [],
   "source": [
    "import pandas as pd\n",
    "import numpy as np\n",
    "import os\n",
    "import matplotlib.pyplot as plt\n",
    "low_memory = False\n",
    "import random"
   ]
  },
  {
   "cell_type": "code",
   "execution_count": 39,
   "metadata": {},
   "outputs": [],
   "source": [
    "#connects to csvs\n",
    "motive_data = pd.read_csv(\"19_Motive.csv\")\n",
    "victim_data = pd.read_csv(\"32_Victim.csv\")\n",
    "firearms_data = pd.read_csv(\"34_Firearm.csv\")\n",
    "air_data = pd.read_csv(\"data.csv\",encoding = \"ISO-8859-1\")"
   ]
  },
  {
   "cell_type": "code",
   "execution_count": 42,
   "metadata": {},
   "outputs": [
    {
     "data": {
      "text/html": [
       "<div>\n",
       "<style scoped>\n",
       "    .dataframe tbody tr th:only-of-type {\n",
       "        vertical-align: middle;\n",
       "    }\n",
       "\n",
       "    .dataframe tbody tr th {\n",
       "        vertical-align: top;\n",
       "    }\n",
       "\n",
       "    .dataframe thead th {\n",
       "        text-align: right;\n",
       "    }\n",
       "</style>\n",
       "<table border=\"1\" class=\"dataframe\">\n",
       "  <thead>\n",
       "    <tr style=\"text-align: right;\">\n",
       "      <th></th>\n",
       "      <th>location</th>\n",
       "      <th>so2</th>\n",
       "      <th>no2</th>\n",
       "      <th>rspm</th>\n",
       "      <th>spm</th>\n",
       "      <th>pm2_5</th>\n",
       "      <th>date</th>\n",
       "    </tr>\n",
       "    <tr>\n",
       "      <th>state</th>\n",
       "      <th></th>\n",
       "      <th></th>\n",
       "      <th></th>\n",
       "      <th></th>\n",
       "      <th></th>\n",
       "      <th></th>\n",
       "      <th></th>\n",
       "    </tr>\n",
       "  </thead>\n",
       "  <tbody>\n",
       "    <tr>\n",
       "      <th>Andhra Pradesh</th>\n",
       "      <td>Hyderabad</td>\n",
       "      <td>14.4</td>\n",
       "      <td>78.3</td>\n",
       "      <td>0.0</td>\n",
       "      <td>291.0</td>\n",
       "      <td>0.0</td>\n",
       "      <td>2001-01-01</td>\n",
       "    </tr>\n",
       "    <tr>\n",
       "      <th>Andhra Pradesh</th>\n",
       "      <td>Hyderabad</td>\n",
       "      <td>15.6</td>\n",
       "      <td>73.6</td>\n",
       "      <td>0.0</td>\n",
       "      <td>340.0</td>\n",
       "      <td>0.0</td>\n",
       "      <td>2001-02-01</td>\n",
       "    </tr>\n",
       "    <tr>\n",
       "      <th>Andhra Pradesh</th>\n",
       "      <td>Hyderabad</td>\n",
       "      <td>14.8</td>\n",
       "      <td>39.8</td>\n",
       "      <td>0.0</td>\n",
       "      <td>189.0</td>\n",
       "      <td>0.0</td>\n",
       "      <td>2001-03-01</td>\n",
       "    </tr>\n",
       "    <tr>\n",
       "      <th>Andhra Pradesh</th>\n",
       "      <td>Hyderabad</td>\n",
       "      <td>13.4</td>\n",
       "      <td>37.1</td>\n",
       "      <td>0.0</td>\n",
       "      <td>220.0</td>\n",
       "      <td>0.0</td>\n",
       "      <td>2001-04-01</td>\n",
       "    </tr>\n",
       "    <tr>\n",
       "      <th>Andhra Pradesh</th>\n",
       "      <td>Hyderabad</td>\n",
       "      <td>14.1</td>\n",
       "      <td>30.3</td>\n",
       "      <td>0.0</td>\n",
       "      <td>183.0</td>\n",
       "      <td>0.0</td>\n",
       "      <td>2001-05-01</td>\n",
       "    </tr>\n",
       "  </tbody>\n",
       "</table>\n",
       "</div>"
      ],
      "text/plain": [
       "                 location   so2   no2  rspm    spm  pm2_5       date\n",
       "state                                                               \n",
       "Andhra Pradesh  Hyderabad  14.4  78.3   0.0  291.0    0.0 2001-01-01\n",
       "Andhra Pradesh  Hyderabad  15.6  73.6   0.0  340.0    0.0 2001-02-01\n",
       "Andhra Pradesh  Hyderabad  14.8  39.8   0.0  189.0    0.0 2001-03-01\n",
       "Andhra Pradesh  Hyderabad  13.4  37.1   0.0  220.0    0.0 2001-04-01\n",
       "Andhra Pradesh  Hyderabad  14.1  30.3   0.0  183.0    0.0 2001-05-01"
      ]
     },
     "execution_count": 42,
     "metadata": {},
     "output_type": "execute_result"
    }
   ],
   "source": [
    "#working on air quality data\n",
    "df_air_data = pd.DataFrame(air_data)\n",
    "df_air_data = df_air_data.set_index('state')\n",
    "clean_air_data = df_air_data.drop([\"stn_code\", \"sampling_date\",\"agency\",\"type\",\"location_monitoring_station\"],1)\n",
    "\n",
    "#filtering the data to dates we need\n",
    "clean_air_data[\"date\"]=pd.to_datetime(clean_air_data[\"date\"])\n",
    "\n",
    "dates = (clean_air_data[\"date\"] > \"12-31-2000\") & (clean_air_data[\"date\"] <= \"12-31-2009\")\n",
    "\n",
    "clean_air_data = clean_air_data.loc[dates]\n",
    "clean_air_data.fillna(0, inplace=True)\n",
    "clean_air_data.head()"
   ]
  },
  {
   "cell_type": "code",
   "execution_count": 36,
   "metadata": {},
   "outputs": [],
   "source": [
    "#####write output to CSV\n",
    "#####UNCOMMENT When needed\n",
    "#clean_air_data.to_csv(r'result.csv')"
   ]
  }
 ],
 "metadata": {
  "kernelspec": {
   "display_name": "Python 3",
   "language": "python",
   "name": "python3"
  },
  "language_info": {
   "codemirror_mode": {
    "name": "ipython",
    "version": 3
   },
   "file_extension": ".py",
   "mimetype": "text/x-python",
   "name": "python",
   "nbconvert_exporter": "python",
   "pygments_lexer": "ipython3",
   "version": "3.7.3"
  }
 },
 "nbformat": 4,
 "nbformat_minor": 2
}

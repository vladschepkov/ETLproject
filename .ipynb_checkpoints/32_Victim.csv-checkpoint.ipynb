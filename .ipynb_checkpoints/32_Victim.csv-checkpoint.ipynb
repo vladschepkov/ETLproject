{
 "cells": [
  {
   "cell_type": "code",
   "execution_count": 29,
   "metadata": {},
   "outputs": [],
   "source": [
    "import pandas as pd\n",
    "import numpy as np\n",
    "import os\n",
    "import matplotlib.pyplot as plt\n",
    "low_memory = False"
   ]
  },
  {
   "cell_type": "code",
   "execution_count": 30,
   "metadata": {},
   "outputs": [],
   "source": [
    "#connects to csvs\n",
    "motive_data = pd.read_csv(\"19_Motive.csv\",encoding = \"ISO-8859-1\")\n",
    "victim_data = pd.read_csv(\"32_Victim.csv\",encoding = \"ISO-8859-1\")\n",
    "firearms_data = pd.read_csv(\"34_Firearm.csv\",encoding = \"ISO-8859-1\")\n",
    "air_data = pd.read_csv(\"data.csv\",encoding = \"ISO-8859-1\")"
   ]
  },
  {
   "cell_type": "code",
   "execution_count": 31,
   "metadata": {
    "scrolled": true
   },
   "outputs": [],
   "source": [
    "#working on air quality data\n",
    "df_vic_data = pd.DataFrame(victim_data)\n",
    "df_vic_data = df_vic_data.set_index('Area_Name')\n",
    "#df_vic_data.head()"
   ]
  },
  {
   "cell_type": "code",
   "execution_count": 32,
   "metadata": {},
   "outputs": [],
   "source": [
    "df_vic_data.fillna(value=0, inplace=True)"
   ]
  },
  {
   "cell_type": "code",
   "execution_count": 33,
   "metadata": {},
   "outputs": [],
   "source": [
    "#df_vic_data.head()"
   ]
  },
  {
   "cell_type": "code",
   "execution_count": 34,
   "metadata": {},
   "outputs": [],
   "source": [
    "df_vic_data_final = df_vic_data[df_vic_data[\"Sub_Group_Name\"] != '3. Total']\n",
    "#df_vic_data_final.head()"
   ]
  },
  {
   "cell_type": "code",
   "execution_count": null,
   "metadata": {},
   "outputs": [],
   "source": []
  }
 ],
 "metadata": {
  "kernelspec": {
   "display_name": "Python 3",
   "language": "python",
   "name": "python3"
  },
  "language_info": {
   "codemirror_mode": {
    "name": "ipython",
    "version": 3
   },
   "file_extension": ".py",
   "mimetype": "text/x-python",
   "name": "python",
   "nbconvert_exporter": "python",
   "pygments_lexer": "ipython3",
   "version": "3.7.3"
  }
 },
 "nbformat": 4,
 "nbformat_minor": 2
}
